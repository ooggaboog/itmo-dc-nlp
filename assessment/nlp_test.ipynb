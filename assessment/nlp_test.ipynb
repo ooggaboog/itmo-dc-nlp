{
 "nbformat": 4,
 "nbformat_minor": 0,
 "metadata": {
  "colab": {
   "provenance": []
  },
  "kernelspec": {
   "name": "python3",
   "display_name": "Python 3"
  },
  "language_info": {
   "name": "python"
  }
 },
 "cells": [
  {
   "cell_type": "markdown",
   "source": [
    "# Задание 1"
   ],
   "metadata": {
    "id": "_m5XVCewdBnt"
   }
  },
  {
   "cell_type": "markdown",
   "source": [
    "Вам даны предобработанные и уже нормализованные документы (один документ - одно предложение). Вычислите значения PPMI для заданных пар термов на основе простых частот."
   ],
   "metadata": {
    "id": "TYdV0lUMsXGj"
   }
  },
  {
   "cell_type": "markdown",
   "source": [
    "### Считываем список документов"
   ],
   "metadata": {
    "id": "eF8ApF56te6O"
   }
  },
  {
   "cell_type": "code",
   "execution_count": 16,
   "metadata": {
    "id": "ZT_DeF76Y_M4"
   },
   "outputs": [],
   "source": [
    "text = '''brewhas california crush game late originator paul runs runs scored second six straight ton\n",
    "article dietz dietz fred j mccall mccall paul writes\n",
    "highley larry let lhighley paul utility wrote\n",
    "brian bring bskendig hudson hudson jr kendig paul specifically writes writes\n",
    "argument bangkok come directly going hudson hudson jr lines moral paul writes\n",
    "article crowley defend digitized lines paul pdc perhaps types would writes\n",
    "angry case conditt could get instead like paul see tell things upset writes\n",
    "article champion distribution havemann minnesota organization paul paul twins usa world writes\n",
    "article article lines olson paul paul writes\n",
    "article article harvey mlee paul pharvey writes\n",
    "article hudson hudson jr paul writes writes\n",
    "arras article de hager hagerp jim jmd paul writes writes\n",
    "anyone article chips good know paul simundza supplier writes\n",
    "cyclical hudson hudson jr paul prophecy somewhat suggestion tends writes\n",
    "aiken article computation gives harvard keywords lab organization paul pimentel university writes\n",
    "application article considering distribution free large making papresco paul prescod reasonably writes\n",
    "allan allanh article heim papresco paul prescod writes\n",
    "article article dick king king paul proberts roberts writes\n",
    "article chemistry chlorine obvious paul sigurdsson steinly steinn writes\n",
    "armenians article attacking curious greeks halsall halsall paul serdar spend time writes'''\n",
    "\n",
    "docs = text.split('\\n')"
   ]
  },
  {
   "cell_type": "markdown",
   "source": [
    "### Задаем функцию вычисления PPMI"
   ],
   "metadata": {
    "id": "TMqWenPztq9A"
   }
  },
  {
   "cell_type": "code",
   "source": [
    "from math import log2\n",
    "\n",
    "N = len(docs)\n",
    "\n",
    "def PPMI(w0, w1):\n",
    "  w0_count = 0\n",
    "  w1_count = 0\n",
    "  both_count = 0\n",
    "  for doc in docs:\n",
    "    words = [word for word in doc.split()]\n",
    "    if w0 in words:\n",
    "      w0_count += 1\n",
    "    if w1 in words:\n",
    "      w1_count += 1\n",
    "    if w0 in words and w1 in words:\n",
    "      both_count += 1\n",
    "  return round(max(log2((N * both_count) / (w0_count * w1_count)), 0), 3)"
   ],
   "metadata": {
    "id": "PBTPs_HddePm"
   },
   "execution_count": 17,
   "outputs": []
  },
  {
   "cell_type": "markdown",
   "source": [
    "### Вычисляем PPMI"
   ],
   "metadata": {
    "id": "QDEelJlytyYh"
   }
  },
  {
   "cell_type": "markdown",
   "source": [
    "\n",
    "Вычислим значение PPMI для термов:\n",
    "- `hudson` и `jr`\n",
    "-  `article` и `hudson`\n",
    "- `paul` и `hudson`"
   ],
   "metadata": {
    "id": "31KcQKr0t6n8"
   }
  },
  {
   "cell_type": "code",
   "source": [
    "print('PPMI hudson и jr:', PPMI('hudson', 'jr'))\n",
    "print('PPMI article и hudson:', PPMI('article', 'hudson'))\n",
    "print('PPMI paul и hudson:', PPMI('paul', 'hudson'))"
   ],
   "metadata": {
    "colab": {
     "base_uri": "https://localhost:8080/"
    },
    "id": "jG_4HYf8dFDi",
    "outputId": "a254119f-6992-429d-8ea4-95a9b3b9b86a"
   },
   "execution_count": 18,
   "outputs": [
    {
     "output_type": "stream",
     "name": "stdout",
     "text": [
      "PPMI hudson и jr: 2.322\n",
      "PPMI article и hudson: 0\n",
      "PPMI paul и hudson: 0.0\n"
     ]
    }
   ]
  },
  {
   "cell_type": "markdown",
   "source": [
    "# Задание 2"
   ],
   "metadata": {
    "id": "3hmmVAvymrB9"
   }
  },
  {
   "cell_type": "markdown",
   "source": [
    "Используйте датасет, содержащий id твита, ключевое слово, локацию, непосредственно текст твита и метку класса (явлется ли твит сообщением о катастрофе)."
   ],
   "metadata": {
    "id": "2BF_i7LCui-z"
   }
  },
  {
   "cell_type": "markdown",
   "source": [
    "### Считываем данные"
   ],
   "metadata": {
    "id": "ga_AlevRumgl"
   }
  },
  {
   "cell_type": "markdown",
   "source": [
    "Оставляем только интересующие нас колонки - `text` и `target`"
   ],
   "metadata": {
    "id": "eIa5cgK6us4J"
   }
  },
  {
   "cell_type": "code",
   "source": [
    "import pandas as pd\n",
    "\n",
    "df = pd.read_csv('tweets.csv')\n",
    "df = df[['text', 'target']]\n",
    "df.head()"
   ],
   "metadata": {
    "colab": {
     "base_uri": "https://localhost:8080/",
     "height": 206
    },
    "id": "DmkNukZGml84",
    "outputId": "d54bbb77-d483-4966-827b-aaa1e18f9ebc"
   },
   "execution_count": 19,
   "outputs": [
    {
     "output_type": "execute_result",
     "data": {
      "text/plain": [
       "                                                text  target\n",
       "0  Communal violence in Bhainsa, Telangana. \"Ston...       1\n",
       "1  Telangana: Section 144 has been imposed in Bha...       1\n",
       "2  Arsonist sets cars ablaze at dealership https:...       1\n",
       "3  Arsonist sets cars ablaze at dealership https:...       1\n",
       "4  \"Lord Jesus, your love brings freedom and pard...       0"
      ],
      "text/html": [
       "\n",
       "  <div id=\"df-6fbea8ca-9166-447f-aec5-22079879fb70\" class=\"colab-df-container\">\n",
       "    <div>\n",
       "<style scoped>\n",
       "    .dataframe tbody tr th:only-of-type {\n",
       "        vertical-align: middle;\n",
       "    }\n",
       "\n",
       "    .dataframe tbody tr th {\n",
       "        vertical-align: top;\n",
       "    }\n",
       "\n",
       "    .dataframe thead th {\n",
       "        text-align: right;\n",
       "    }\n",
       "</style>\n",
       "<table border=\"1\" class=\"dataframe\">\n",
       "  <thead>\n",
       "    <tr style=\"text-align: right;\">\n",
       "      <th></th>\n",
       "      <th>text</th>\n",
       "      <th>target</th>\n",
       "    </tr>\n",
       "  </thead>\n",
       "  <tbody>\n",
       "    <tr>\n",
       "      <th>0</th>\n",
       "      <td>Communal violence in Bhainsa, Telangana. \"Ston...</td>\n",
       "      <td>1</td>\n",
       "    </tr>\n",
       "    <tr>\n",
       "      <th>1</th>\n",
       "      <td>Telangana: Section 144 has been imposed in Bha...</td>\n",
       "      <td>1</td>\n",
       "    </tr>\n",
       "    <tr>\n",
       "      <th>2</th>\n",
       "      <td>Arsonist sets cars ablaze at dealership https:...</td>\n",
       "      <td>1</td>\n",
       "    </tr>\n",
       "    <tr>\n",
       "      <th>3</th>\n",
       "      <td>Arsonist sets cars ablaze at dealership https:...</td>\n",
       "      <td>1</td>\n",
       "    </tr>\n",
       "    <tr>\n",
       "      <th>4</th>\n",
       "      <td>\"Lord Jesus, your love brings freedom and pard...</td>\n",
       "      <td>0</td>\n",
       "    </tr>\n",
       "  </tbody>\n",
       "</table>\n",
       "</div>\n",
       "    <div class=\"colab-df-buttons\">\n",
       "\n",
       "  <div class=\"colab-df-container\">\n",
       "    <button class=\"colab-df-convert\" onclick=\"convertToInteractive('df-6fbea8ca-9166-447f-aec5-22079879fb70')\"\n",
       "            title=\"Convert this dataframe to an interactive table.\"\n",
       "            style=\"display:none;\">\n",
       "\n",
       "  <svg xmlns=\"http://www.w3.org/2000/svg\" height=\"24px\" viewBox=\"0 -960 960 960\">\n",
       "    <path d=\"M120-120v-720h720v720H120Zm60-500h600v-160H180v160Zm220 220h160v-160H400v160Zm0 220h160v-160H400v160ZM180-400h160v-160H180v160Zm440 0h160v-160H620v160ZM180-180h160v-160H180v160Zm440 0h160v-160H620v160Z\"/>\n",
       "  </svg>\n",
       "    </button>\n",
       "\n",
       "  <style>\n",
       "    .colab-df-container {\n",
       "      display:flex;\n",
       "      gap: 12px;\n",
       "    }\n",
       "\n",
       "    .colab-df-convert {\n",
       "      background-color: #E8F0FE;\n",
       "      border: none;\n",
       "      border-radius: 50%;\n",
       "      cursor: pointer;\n",
       "      display: none;\n",
       "      fill: #1967D2;\n",
       "      height: 32px;\n",
       "      padding: 0 0 0 0;\n",
       "      width: 32px;\n",
       "    }\n",
       "\n",
       "    .colab-df-convert:hover {\n",
       "      background-color: #E2EBFA;\n",
       "      box-shadow: 0px 1px 2px rgba(60, 64, 67, 0.3), 0px 1px 3px 1px rgba(60, 64, 67, 0.15);\n",
       "      fill: #174EA6;\n",
       "    }\n",
       "\n",
       "    .colab-df-buttons div {\n",
       "      margin-bottom: 4px;\n",
       "    }\n",
       "\n",
       "    [theme=dark] .colab-df-convert {\n",
       "      background-color: #3B4455;\n",
       "      fill: #D2E3FC;\n",
       "    }\n",
       "\n",
       "    [theme=dark] .colab-df-convert:hover {\n",
       "      background-color: #434B5C;\n",
       "      box-shadow: 0px 1px 3px 1px rgba(0, 0, 0, 0.15);\n",
       "      filter: drop-shadow(0px 1px 2px rgba(0, 0, 0, 0.3));\n",
       "      fill: #FFFFFF;\n",
       "    }\n",
       "  </style>\n",
       "\n",
       "    <script>\n",
       "      const buttonEl =\n",
       "        document.querySelector('#df-6fbea8ca-9166-447f-aec5-22079879fb70 button.colab-df-convert');\n",
       "      buttonEl.style.display =\n",
       "        google.colab.kernel.accessAllowed ? 'block' : 'none';\n",
       "\n",
       "      async function convertToInteractive(key) {\n",
       "        const element = document.querySelector('#df-6fbea8ca-9166-447f-aec5-22079879fb70');\n",
       "        const dataTable =\n",
       "          await google.colab.kernel.invokeFunction('convertToInteractive',\n",
       "                                                    [key], {});\n",
       "        if (!dataTable) return;\n",
       "\n",
       "        const docLinkHtml = 'Like what you see? Visit the ' +\n",
       "          '<a target=\"_blank\" href=https://colab.research.google.com/notebooks/data_table.ipynb>data table notebook</a>'\n",
       "          + ' to learn more about interactive tables.';\n",
       "        element.innerHTML = '';\n",
       "        dataTable['output_type'] = 'display_data';\n",
       "        await google.colab.output.renderOutput(dataTable, element);\n",
       "        const docLink = document.createElement('div');\n",
       "        docLink.innerHTML = docLinkHtml;\n",
       "        element.appendChild(docLink);\n",
       "      }\n",
       "    </script>\n",
       "  </div>\n",
       "\n",
       "\n",
       "<div id=\"df-e9351d84-0d79-403c-b7dd-dcc7a5a5a1e8\">\n",
       "  <button class=\"colab-df-quickchart\" onclick=\"quickchart('df-e9351d84-0d79-403c-b7dd-dcc7a5a5a1e8')\"\n",
       "            title=\"Suggest charts\"\n",
       "            style=\"display:none;\">\n",
       "\n",
       "<svg xmlns=\"http://www.w3.org/2000/svg\" height=\"24px\"viewBox=\"0 0 24 24\"\n",
       "     width=\"24px\">\n",
       "    <g>\n",
       "        <path d=\"M19 3H5c-1.1 0-2 .9-2 2v14c0 1.1.9 2 2 2h14c1.1 0 2-.9 2-2V5c0-1.1-.9-2-2-2zM9 17H7v-7h2v7zm4 0h-2V7h2v10zm4 0h-2v-4h2v4z\"/>\n",
       "    </g>\n",
       "</svg>\n",
       "  </button>\n",
       "\n",
       "<style>\n",
       "  .colab-df-quickchart {\n",
       "      --bg-color: #E8F0FE;\n",
       "      --fill-color: #1967D2;\n",
       "      --hover-bg-color: #E2EBFA;\n",
       "      --hover-fill-color: #174EA6;\n",
       "      --disabled-fill-color: #AAA;\n",
       "      --disabled-bg-color: #DDD;\n",
       "  }\n",
       "\n",
       "  [theme=dark] .colab-df-quickchart {\n",
       "      --bg-color: #3B4455;\n",
       "      --fill-color: #D2E3FC;\n",
       "      --hover-bg-color: #434B5C;\n",
       "      --hover-fill-color: #FFFFFF;\n",
       "      --disabled-bg-color: #3B4455;\n",
       "      --disabled-fill-color: #666;\n",
       "  }\n",
       "\n",
       "  .colab-df-quickchart {\n",
       "    background-color: var(--bg-color);\n",
       "    border: none;\n",
       "    border-radius: 50%;\n",
       "    cursor: pointer;\n",
       "    display: none;\n",
       "    fill: var(--fill-color);\n",
       "    height: 32px;\n",
       "    padding: 0;\n",
       "    width: 32px;\n",
       "  }\n",
       "\n",
       "  .colab-df-quickchart:hover {\n",
       "    background-color: var(--hover-bg-color);\n",
       "    box-shadow: 0 1px 2px rgba(60, 64, 67, 0.3), 0 1px 3px 1px rgba(60, 64, 67, 0.15);\n",
       "    fill: var(--button-hover-fill-color);\n",
       "  }\n",
       "\n",
       "  .colab-df-quickchart-complete:disabled,\n",
       "  .colab-df-quickchart-complete:disabled:hover {\n",
       "    background-color: var(--disabled-bg-color);\n",
       "    fill: var(--disabled-fill-color);\n",
       "    box-shadow: none;\n",
       "  }\n",
       "\n",
       "  .colab-df-spinner {\n",
       "    border: 2px solid var(--fill-color);\n",
       "    border-color: transparent;\n",
       "    border-bottom-color: var(--fill-color);\n",
       "    animation:\n",
       "      spin 1s steps(1) infinite;\n",
       "  }\n",
       "\n",
       "  @keyframes spin {\n",
       "    0% {\n",
       "      border-color: transparent;\n",
       "      border-bottom-color: var(--fill-color);\n",
       "      border-left-color: var(--fill-color);\n",
       "    }\n",
       "    20% {\n",
       "      border-color: transparent;\n",
       "      border-left-color: var(--fill-color);\n",
       "      border-top-color: var(--fill-color);\n",
       "    }\n",
       "    30% {\n",
       "      border-color: transparent;\n",
       "      border-left-color: var(--fill-color);\n",
       "      border-top-color: var(--fill-color);\n",
       "      border-right-color: var(--fill-color);\n",
       "    }\n",
       "    40% {\n",
       "      border-color: transparent;\n",
       "      border-right-color: var(--fill-color);\n",
       "      border-top-color: var(--fill-color);\n",
       "    }\n",
       "    60% {\n",
       "      border-color: transparent;\n",
       "      border-right-color: var(--fill-color);\n",
       "    }\n",
       "    80% {\n",
       "      border-color: transparent;\n",
       "      border-right-color: var(--fill-color);\n",
       "      border-bottom-color: var(--fill-color);\n",
       "    }\n",
       "    90% {\n",
       "      border-color: transparent;\n",
       "      border-bottom-color: var(--fill-color);\n",
       "    }\n",
       "  }\n",
       "</style>\n",
       "\n",
       "  <script>\n",
       "    async function quickchart(key) {\n",
       "      const quickchartButtonEl =\n",
       "        document.querySelector('#' + key + ' button');\n",
       "      quickchartButtonEl.disabled = true;  // To prevent multiple clicks.\n",
       "      quickchartButtonEl.classList.add('colab-df-spinner');\n",
       "      try {\n",
       "        const charts = await google.colab.kernel.invokeFunction(\n",
       "            'suggestCharts', [key], {});\n",
       "      } catch (error) {\n",
       "        console.error('Error during call to suggestCharts:', error);\n",
       "      }\n",
       "      quickchartButtonEl.classList.remove('colab-df-spinner');\n",
       "      quickchartButtonEl.classList.add('colab-df-quickchart-complete');\n",
       "    }\n",
       "    (() => {\n",
       "      let quickchartButtonEl =\n",
       "        document.querySelector('#df-e9351d84-0d79-403c-b7dd-dcc7a5a5a1e8 button');\n",
       "      quickchartButtonEl.style.display =\n",
       "        google.colab.kernel.accessAllowed ? 'block' : 'none';\n",
       "    })();\n",
       "  </script>\n",
       "</div>\n",
       "    </div>\n",
       "  </div>\n"
      ],
      "application/vnd.google.colaboratory.intrinsic+json": {
       "type": "dataframe",
       "variable_name": "df",
       "summary": "{\n  \"name\": \"df\",\n  \"rows\": 11370,\n  \"fields\": [\n    {\n      \"column\": \"text\",\n      \"properties\": {\n        \"dtype\": \"string\",\n        \"num_unique_values\": 11223,\n        \"samples\": [\n          \"Stretcher \\ud83d\\ude02\",\n          \"Blazing Saddles' at 45: The Movie That Couldn't Get Made Today https://t.co/Jmf8s1VZtJ #NewsandPolitics via\",\n          \"Huh. I guess people are not suffering so it cant be called a tragedy. Youre completely blinded by your o\\u2026 https://t.co/3es4YfcAhz\"\n        ],\n        \"semantic_type\": \"\",\n        \"description\": \"\"\n      }\n    },\n    {\n      \"column\": \"target\",\n      \"properties\": {\n        \"dtype\": \"number\",\n        \"std\": 0,\n        \"min\": 0,\n        \"max\": 1,\n        \"num_unique_values\": 2,\n        \"samples\": [\n          0,\n          1\n        ],\n        \"semantic_type\": \"\",\n        \"description\": \"\"\n      }\n    }\n  ]\n}"
      }
     },
     "metadata": {},
     "execution_count": 19
    }
   ]
  },
  {
   "cell_type": "markdown",
   "source": [
    "### Предобработка текста"
   ],
   "metadata": {
    "id": "SMj-kX4Ku180"
   }
  },
  {
   "cell_type": "markdown",
   "source": [
    "Выполните предварительную обработку текста, а именно реализуйте функцию для предобработки сообщений, которая делает с текстом следующее (по аналогии с заданием к теме Классификация):\n",
    "\n",
    "- приводит текст к нижнему регистру `(.lower)`;\n",
    "- удаляет стоп-слова `(nltk.corpus.stopwords, \"english\")`;\n",
    "- удаляет знаки препинания (регулярное выражение `[^\\w\\s]`);\n",
    "- нормализует текст при помощи стеммера Snowball `(nltk.stem.SnowballStemmer('english'))`.\n"
   ],
   "metadata": {
    "id": "rnHKMmOwu5tY"
   }
  },
  {
   "cell_type": "code",
   "source": [
    "import nltk\n",
    "nltk.download('stopwords')"
   ],
   "metadata": {
    "colab": {
     "base_uri": "https://localhost:8080/"
    },
    "id": "6DTtPUSnqwPK",
    "outputId": "0446c5e8-55b4-4ed4-ed2e-55469a959ca5"
   },
   "execution_count": 20,
   "outputs": [
    {
     "output_type": "stream",
     "name": "stderr",
     "text": [
      "[nltk_data] Downloading package stopwords to /root/nltk_data...\n",
      "[nltk_data]   Package stopwords is already up-to-date!\n"
     ]
    },
    {
     "output_type": "execute_result",
     "data": {
      "text/plain": [
       "True"
      ]
     },
     "metadata": {},
     "execution_count": 20
    }
   ]
  },
  {
   "cell_type": "code",
   "source": [
    "from nltk import stem\n",
    "from nltk.corpus import stopwords\n",
    "import re\n",
    "\n",
    "stemmer = stem.SnowballStemmer('english')\n",
    "stopwords = set(stopwords.words('english'))\n",
    "\n",
    "def preprocess(text):\n",
    "    text = re.sub(r'[^\\w\\s]', '', text)\n",
    "    text = text.lower()\n",
    "    words = text.split()\n",
    "    words =[stemmer.stem(word) for word in words if word not in stopwords]\n",
    "    text = ' '.join(words)\n",
    "    return text"
   ],
   "metadata": {
    "id": "r8IPipY5oqbV"
   },
   "execution_count": 21,
   "outputs": []
  },
  {
   "cell_type": "markdown",
   "metadata": {
    "id": "84H8mOmpdnLe"
   },
   "source": [
    "Применяем получившуюся функцию к текстам:"
   ]
  },
  {
   "cell_type": "code",
   "source": [
    "df['text'] = df['text'].apply(preprocess)"
   ],
   "metadata": {
    "id": "x1UzmHAWpkYP"
   },
   "execution_count": 22,
   "outputs": []
  },
  {
   "cell_type": "markdown",
   "source": [
    "### Разделение данных на обучающую и тестовую выборки"
   ],
   "metadata": {
    "id": "d0cugfalvVeX"
   }
  },
  {
   "cell_type": "markdown",
   "source": [
    "Разделите датасет на тренировочный и тестовый набор данных с параметрами `test_size = 0.3`, `random_state = 1`"
   ],
   "metadata": {
    "id": "I84JxF4DveQJ"
   }
  },
  {
   "cell_type": "code",
   "source": [
    "from sklearn.model_selection import train_test_split\n",
    "X_train, X_test, y_train, y_test = train_test_split(df['text'], df['target'], test_size=0.3, random_state=1)"
   ],
   "metadata": {
    "id": "_8Eawv_-rBW7"
   },
   "execution_count": 23,
   "outputs": []
  },
  {
   "cell_type": "markdown",
   "source": [
    "### Обучение классификатора"
   ],
   "metadata": {
    "id": "GbWQiYmovnOW"
   }
  },
  {
   "cell_type": "markdown",
   "source": [
    "Для векторизации используйте объект `TfidfVectorizer()` (параметры по умолчанию)."
   ],
   "metadata": {
    "id": "SeJbcnU-vu9C"
   }
  },
  {
   "cell_type": "code",
   "source": [
    "from sklearn.feature_extraction.text import TfidfVectorizer\n",
    "\n",
    "vectorizer = TfidfVectorizer()\n",
    "X_train = vectorizer.fit_transform(X_train)\n",
    "X_test = vectorizer.transform(X_test)"
   ],
   "metadata": {
    "id": "b2KbEAQgriXJ"
   },
   "execution_count": 24,
   "outputs": []
  },
  {
   "cell_type": "markdown",
   "source": [
    "Обучите классификатор SVM `(LinearSVC)` при `C = 1.4` и `random_state = 1` на обучающей выборке и произведите оценку полученной модели на тестовой."
   ],
   "metadata": {
    "id": "jtYrV7Qev3fe"
   }
  },
  {
   "cell_type": "code",
   "source": [
    "from sklearn.svm import LinearSVC\n",
    "from sklearn.metrics import classification_report\n",
    "\n",
    "model = LinearSVC(random_state = 1, C = 1.4)\n",
    "model.fit(X_train, y_train)\n",
    "predictions = model.predict(X_test)"
   ],
   "metadata": {
    "id": "55lYQO7kr5gy"
   },
   "execution_count": 25,
   "outputs": []
  },
  {
   "cell_type": "code",
   "source": [
    "print(classification_report(y_test, predictions, digits=3))"
   ],
   "metadata": {
    "colab": {
     "base_uri": "https://localhost:8080/"
    },
    "id": "t1LyGNTusCWs",
    "outputId": "0130dfd4-7dd1-4d82-96f1-159eebca901a"
   },
   "execution_count": 26,
   "outputs": [
    {
     "output_type": "stream",
     "name": "stdout",
     "text": [
      "              precision    recall  f1-score   support\n",
      "\n",
      "           0      0.917     0.956     0.936      2788\n",
      "           1      0.757     0.612     0.677       623\n",
      "\n",
      "    accuracy                          0.893      3411\n",
      "   macro avg      0.837     0.784     0.806      3411\n",
      "weighted avg      0.888     0.893     0.889      3411\n",
      "\n"
     ]
    }
   ]
  }
 ]
}
