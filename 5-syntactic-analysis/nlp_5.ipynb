{
  "cells": [
    {
      "cell_type": "markdown",
      "metadata": {
        "id": "Xi3sqi2ni6Zw"
      },
      "source": [
        "## Подключение необходимых модулей"
      ]
    },
    {
      "cell_type": "code",
      "execution_count": 1,
      "metadata": {
        "colab": {
          "base_uri": "https://localhost:8080/"
        },
        "id": "pFELL0b6i6Zz",
        "outputId": "72fb03f2-75e1-4ae5-eb16-a13a8d9313ed"
      },
      "outputs": [
        {
          "output_type": "stream",
          "name": "stdout",
          "text": [
            "\u001b[?25l   \u001b[90m━━━━━━━━━━━━━━━━━━━━━━━━━━━━━━━━━━━━━━━━\u001b[0m \u001b[32m0.0/936.8 kB\u001b[0m \u001b[31m?\u001b[0m eta \u001b[36m-:--:--\u001b[0m\r\u001b[2K   \u001b[91m━━━━━\u001b[0m\u001b[90m╺\u001b[0m\u001b[90m━━━━━━━━━━━━━━━━━━━━━━━━━━━━━━━━━━\u001b[0m \u001b[32m122.9/936.8 kB\u001b[0m \u001b[31m4.3 MB/s\u001b[0m eta \u001b[36m0:00:01\u001b[0m\r\u001b[2K   \u001b[91m━━━━━━━━━━━━━━━━━━━━━━━━━━━━━━━━━━━━━━━\u001b[0m\u001b[91m╸\u001b[0m \u001b[32m931.8/936.8 kB\u001b[0m \u001b[31m14.3 MB/s\u001b[0m eta \u001b[36m0:00:01\u001b[0m\r\u001b[2K   \u001b[90m━━━━━━━━━━━━━━━━━━━━━━━━━━━━━━━━━━━━━━━━\u001b[0m \u001b[32m936.8/936.8 kB\u001b[0m \u001b[31m10.9 MB/s\u001b[0m eta \u001b[36m0:00:00\u001b[0m\n",
            "\u001b[?25h"
          ]
        }
      ],
      "source": [
        "! pip install -q conllu\n",
        "! pip install -q graphviz\n",
        "! pip install -q ufal.udpipe"
      ]
    },
    {
      "cell_type": "markdown",
      "metadata": {
        "id": "-w82dt3Ki6aJ"
      },
      "source": [
        "## Загрузка моделей"
      ]
    },
    {
      "cell_type": "code",
      "execution_count": 2,
      "metadata": {
        "id": "kDboaNgQi6aK"
      },
      "outputs": [],
      "source": [
        "!wget -q 'https://lindat.mff.cuni.cz/repository/xmlui/bitstream/handle/11234/1-3131/russian-syntagrus-ud-2.5-191206.udpipe'\n",
        "!wget -q 'https://lindat.mff.cuni.cz/repository/xmlui/bitstream/handle/11234/1-3131/russian-taiga-ud-2.5-191206.udpipe'"
      ]
    },
    {
      "cell_type": "markdown",
      "metadata": {
        "id": "05htpbLZi6as"
      },
      "source": [
        "На этом подготовка материалов завершена, переходим к написанию кода для синтаксического анализа"
      ]
    },
    {
      "cell_type": "markdown",
      "metadata": {
        "id": "4RfK9-zii6aw"
      },
      "source": [
        "## Подключение библиотек"
      ]
    },
    {
      "cell_type": "code",
      "execution_count": 3,
      "metadata": {
        "id": "dmf7LI_0i6ax"
      },
      "outputs": [],
      "source": [
        "import sys\n",
        "\n",
        "from conllu import parse\n",
        "from graphviz import Digraph\n",
        "from ufal.udpipe import Model, Pipeline, ProcessingError"
      ]
    },
    {
      "cell_type": "markdown",
      "metadata": {
        "id": "ufl9Rvugi6a3"
      },
      "source": [
        "## Настройка работы с моделями"
      ]
    },
    {
      "cell_type": "code",
      "execution_count": 4,
      "metadata": {
        "colab": {
          "base_uri": "https://localhost:8080/"
        },
        "id": "Rj7bbVu4i6a4",
        "outputId": "dfa1b44f-e861-45a7-c267-ad7bc5f4ea0a"
      },
      "outputs": [
        {
          "output_type": "stream",
          "name": "stdout",
          "text": [
            "Loading model:russian-syntagrus-ud-2.5-191206.udpipe\n",
            "Loading done\n",
            "Loading model:russian-taiga-ud-2.5-191206.udpipe\n",
            "Loading done\n"
          ]
        }
      ],
      "source": [
        "INPUT_FORMAT = \"tokenize\"\n",
        "OUTPUT_FORMAT = \"conllu\"\n",
        "SYNTAGRUS_MODEL_FILE = \"russian-syntagrus-ud-2.5-191206.udpipe\"\n",
        "TAIGA_MODEL_FILE = \"russian-taiga-ud-2.5-191206.udpipe\"\n",
        "\n",
        "print(\"Loading model:\" + SYNTAGRUS_MODEL_FILE)\n",
        "syntagrus_model = Model.load(SYNTAGRUS_MODEL_FILE)\n",
        "print(\"Loading done\")\n",
        "\n",
        "print(\"Loading model:\" + TAIGA_MODEL_FILE)\n",
        "taiga_model = Model.load(TAIGA_MODEL_FILE)\n",
        "print(\"Loading done\")"
      ]
    },
    {
      "cell_type": "markdown",
      "metadata": {
        "id": "eFV0w_Xmi6bA"
      },
      "source": [
        "## Построение цепочки обработки"
      ]
    },
    {
      "cell_type": "markdown",
      "metadata": {
        "id": "201ztaiki6bB"
      },
      "source": [
        "Строим цепочку обработки  -- от сырого текста до синтаксического дерева"
      ]
    },
    {
      "cell_type": "code",
      "execution_count": 5,
      "metadata": {
        "id": "NQxfMF_3i6bC"
      },
      "outputs": [],
      "source": [
        "syntagrus_pipeline = Pipeline(syntagrus_model, INPUT_FORMAT,\n",
        "                              Pipeline.DEFAULT, Pipeline.DEFAULT, OUTPUT_FORMAT)\n",
        "taiga_pipeline = Pipeline(taiga_model, INPUT_FORMAT,\n",
        "                          Pipeline.DEFAULT, Pipeline.DEFAULT, OUTPUT_FORMAT)\n",
        "\n",
        "error = ProcessingError()"
      ]
    },
    {
      "cell_type": "markdown",
      "metadata": {
        "id": "4rmXlR1ei6bI"
      },
      "source": [
        "Применение собственно цепочки обработки к сырому тексту; вывод в формате CoNLL-U."
      ]
    },
    {
      "cell_type": "code",
      "execution_count": 6,
      "metadata": {
        "id": "MJedzauNi6bJ"
      },
      "outputs": [],
      "source": [
        "def parse_syntax(raw_text, pipeline):\n",
        "    \"\"\" Applying UDPipe \"\"\"\n",
        "    text = raw_text.strip()\n",
        "\n",
        "    # Process data\n",
        "    processed = pipeline.process(text, error)\n",
        "\n",
        "    if error.occurred():\n",
        "        sys.stderr.write(\"An error occurred when running run_udpipe: \")\n",
        "        sys.stderr.write(error.message)\n",
        "        sys.stderr.write(\"\\n\")\n",
        "\n",
        "    return processed"
      ]
    },
    {
      "cell_type": "markdown",
      "metadata": {
        "id": "CHD7DOp3i6bP"
      },
      "source": [
        "Создадим два разбора, которые и будем сравнивать."
      ]
    },
    {
      "cell_type": "code",
      "execution_count": 15,
      "metadata": {
        "id": "svFDIXCli6bS"
      },
      "outputs": [],
      "source": [
        "syntag = parse_syntax(\"Распространены крупнолистные миртовые и орхидеи.\", syntagrus_pipeline)\n",
        "taiga = parse_syntax(\"Распространены крупнолистные миртовые и орхидеи.\", taiga_pipeline)"
      ]
    },
    {
      "cell_type": "markdown",
      "metadata": {
        "id": "jYKnnwqVqbuZ"
      },
      "source": [
        "Понятно, что в таком виде производить расчеты не очень удобно. Для вычисления LAS и UAS сначала представим деревья разбора в виде графов."
      ]
    },
    {
      "cell_type": "markdown",
      "metadata": {
        "id": "LGkqQEi1qbua"
      },
      "source": [
        "## Графововое представление дерева разбора\n",
        "\n",
        "Методами библиотеки `conllu` превращаем выданный нам udpipe разбор в формате CoNLL-U в дерево, с которым удобно работать.\n",
        "\n",
        "С помощью стандартного обхода в ширину наполняем рёбрами объект Digraph для последующей визуализации дерева с помощью `graphviz`."
      ]
    },
    {
      "cell_type": "code",
      "execution_count": 16,
      "metadata": {
        "id": "jQ6zzoRni6bo"
      },
      "outputs": [],
      "source": [
        "from conllu import parse\n",
        "from graphviz import Digraph\n",
        "\n",
        "def parse_output(conll):\n",
        "    \"\"\"\n",
        "        Preparing the dependency tree for further processing\n",
        "    \"\"\"\n",
        "    sentences = parse(conll)\n",
        "    return [s.to_tree() for s  in sentences]\n",
        "\n",
        "\n",
        "class Root(object):\n",
        "  def __init__(self, child):\n",
        "    self.token = {\"form\": \"\", \"id\": 0, \"deprel\": \"root\"}\n",
        "    self.children = [child]\n",
        "\n",
        "def draw_tree(tree):\n",
        "    \"\"\" Drawing a dependency tree for debugging stuff \"\"\"\n",
        "\n",
        "    g = Digraph(format='png')\n",
        "\n",
        "    # a queue for tree traversal\n",
        "    queue = [Root(tree)]\n",
        "\n",
        "    while len(queue) > 0:\n",
        "\n",
        "        head = queue.pop()\n",
        "        head_label = head.token[\"form\"] + \" (%d)\" % head.token[\"id\"]\n",
        "        queue.extend(head.children)\n",
        "\n",
        "        for c in head.children:\n",
        "            c_label = c.token[\"form\"] + \" (%d)\" %  c.token[\"id\"]\n",
        "            g.edge(head_label, c_label, label=c.token[\"deprel\"])\n",
        "\n",
        "    return g"
      ]
    },
    {
      "cell_type": "markdown",
      "metadata": {
        "id": "PGp5oQbUi6cQ"
      },
      "source": [
        "Построим оба дерева"
      ]
    },
    {
      "cell_type": "code",
      "execution_count": 17,
      "metadata": {
        "id": "woGZyXqCqbuf"
      },
      "outputs": [],
      "source": [
        "str_tree = parse_output(syntag.strip())[0]\n",
        "taiga_tree = parse_output(taiga.strip())[0]"
      ]
    },
    {
      "cell_type": "code",
      "execution_count": 18,
      "metadata": {
        "colab": {
          "base_uri": "https://localhost:8080/",
          "height": 428
        },
        "id": "ICivSE4eqbuh",
        "outputId": "540f923c-a127-4841-9dfc-d8adb7f3b875"
      },
      "outputs": [
        {
          "output_type": "execute_result",
          "data": {
            "image/svg+xml": "<?xml version=\"1.0\" encoding=\"UTF-8\" standalone=\"no\"?>\n<!DOCTYPE svg PUBLIC \"-//W3C//DTD SVG 1.1//EN\"\n \"http://www.w3.org/Graphics/SVG/1.1/DTD/svg11.dtd\">\n<!-- Generated by graphviz version 2.43.0 (0)\n -->\n<!-- Title: %3 Pages: 1 -->\n<svg width=\"391pt\" height=\"305pt\"\n viewBox=\"0.00 0.00 390.79 305.00\" xmlns=\"http://www.w3.org/2000/svg\" xmlns:xlink=\"http://www.w3.org/1999/xlink\">\n<g id=\"graph0\" class=\"graph\" transform=\"scale(1 1) rotate(0) translate(4 301)\">\n<title>%3</title>\n<polygon fill=\"white\" stroke=\"transparent\" points=\"-4,4 -4,-301 386.79,-301 386.79,4 -4,4\"/>\n<!--  (0) -->\n<g id=\"node1\" class=\"node\">\n<title> (0)</title>\n<ellipse fill=\"none\" stroke=\"black\" cx=\"296.19\" cy=\"-279\" rx=\"27\" ry=\"18\"/>\n<text text-anchor=\"middle\" x=\"296.19\" y=\"-275.3\" font-family=\"Times,serif\" font-size=\"14.00\"> (0)</text>\n</g>\n<!-- Распространены (1) -->\n<g id=\"node2\" class=\"node\">\n<title>Распространены (1)</title>\n<ellipse fill=\"none\" stroke=\"black\" cx=\"296.19\" cy=\"-192\" rx=\"86.38\" ry=\"18\"/>\n<text text-anchor=\"middle\" x=\"296.19\" y=\"-188.3\" font-family=\"Times,serif\" font-size=\"14.00\">Распространены (1)</text>\n</g>\n<!--  (0)&#45;&gt;Распространены (1) -->\n<g id=\"edge1\" class=\"edge\">\n<title> (0)&#45;&gt;Распространены (1)</title>\n<path fill=\"none\" stroke=\"black\" d=\"M296.19,-260.8C296.19,-249.16 296.19,-233.55 296.19,-220.24\"/>\n<polygon fill=\"black\" stroke=\"black\" points=\"299.69,-220.18 296.19,-210.18 292.69,-220.18 299.69,-220.18\"/>\n<text text-anchor=\"middle\" x=\"307.19\" y=\"-231.8\" font-family=\"Times,serif\" font-size=\"14.00\">root</text>\n</g>\n<!-- орхидеи (5) -->\n<g id=\"node3\" class=\"node\">\n<title>орхидеи (5)</title>\n<ellipse fill=\"none\" stroke=\"black\" cx=\"246.19\" cy=\"-105\" rx=\"54.69\" ry=\"18\"/>\n<text text-anchor=\"middle\" x=\"246.19\" y=\"-101.3\" font-family=\"Times,serif\" font-size=\"14.00\">орхидеи (5)</text>\n</g>\n<!-- Распространены (1)&#45;&gt;орхидеи (5) -->\n<g id=\"edge2\" class=\"edge\">\n<title>Распространены (1)&#45;&gt;орхидеи (5)</title>\n<path fill=\"none\" stroke=\"black\" d=\"M280.37,-173.96C275.76,-168.48 270.95,-162.21 267.19,-156 262.8,-148.75 258.9,-140.42 255.69,-132.66\"/>\n<polygon fill=\"black\" stroke=\"black\" points=\"258.92,-131.3 252.01,-123.27 252.4,-133.86 258.92,-131.3\"/>\n<text text-anchor=\"middle\" x=\"295.69\" y=\"-144.8\" font-family=\"Times,serif\" font-size=\"14.00\">nsubj:pass</text>\n</g>\n<!-- . (6) -->\n<g id=\"node4\" class=\"node\">\n<title>. (6)</title>\n<ellipse fill=\"none\" stroke=\"black\" cx=\"346.19\" cy=\"-105\" rx=\"27\" ry=\"18\"/>\n<text text-anchor=\"middle\" x=\"346.19\" y=\"-101.3\" font-family=\"Times,serif\" font-size=\"14.00\">. (6)</text>\n</g>\n<!-- Распространены (1)&#45;&gt;. (6) -->\n<g id=\"edge3\" class=\"edge\">\n<title>Распространены (1)&#45;&gt;. (6)</title>\n<path fill=\"none\" stroke=\"black\" d=\"M311.09,-174.21C315.62,-168.64 320.4,-162.26 324.19,-156 328.68,-148.59 332.77,-140.09 336.17,-132.23\"/>\n<polygon fill=\"black\" stroke=\"black\" points=\"339.51,-133.33 340.09,-122.75 333.04,-130.66 339.51,-133.33\"/>\n<text text-anchor=\"middle\" x=\"347.69\" y=\"-144.8\" font-family=\"Times,serif\" font-size=\"14.00\">punct</text>\n</g>\n<!-- крупнолистные (2) -->\n<g id=\"node5\" class=\"node\">\n<title>крупнолистные (2)</title>\n<ellipse fill=\"none\" stroke=\"black\" cx=\"83.19\" cy=\"-18\" rx=\"83.39\" ry=\"18\"/>\n<text text-anchor=\"middle\" x=\"83.19\" y=\"-14.3\" font-family=\"Times,serif\" font-size=\"14.00\">крупнолистные (2)</text>\n</g>\n<!-- орхидеи (5)&#45;&gt;крупнолистные (2) -->\n<g id=\"edge4\" class=\"edge\">\n<title>орхидеи (5)&#45;&gt;крупнолистные (2)</title>\n<path fill=\"none\" stroke=\"black\" d=\"M218.17,-89.39C191.89,-75.68 152.32,-55.05 122.81,-39.66\"/>\n<polygon fill=\"black\" stroke=\"black\" points=\"124.1,-36.38 113.61,-34.86 120.86,-42.59 124.1,-36.38\"/>\n<text text-anchor=\"middle\" x=\"190.69\" y=\"-57.8\" font-family=\"Times,serif\" font-size=\"14.00\">amod</text>\n</g>\n<!-- миртовые (3) -->\n<g id=\"node6\" class=\"node\">\n<title>миртовые (3)</title>\n<ellipse fill=\"none\" stroke=\"black\" cx=\"246.19\" cy=\"-18\" rx=\"61.99\" ry=\"18\"/>\n<text text-anchor=\"middle\" x=\"246.19\" y=\"-14.3\" font-family=\"Times,serif\" font-size=\"14.00\">миртовые (3)</text>\n</g>\n<!-- орхидеи (5)&#45;&gt;миртовые (3) -->\n<g id=\"edge5\" class=\"edge\">\n<title>орхидеи (5)&#45;&gt;миртовые (3)</title>\n<path fill=\"none\" stroke=\"black\" d=\"M246.19,-86.8C246.19,-75.16 246.19,-59.55 246.19,-46.24\"/>\n<polygon fill=\"black\" stroke=\"black\" points=\"249.69,-46.18 246.19,-36.18 242.69,-46.18 249.69,-46.18\"/>\n<text text-anchor=\"middle\" x=\"261.69\" y=\"-57.8\" font-family=\"Times,serif\" font-size=\"14.00\">amod</text>\n</g>\n<!-- и (4) -->\n<g id=\"node7\" class=\"node\">\n<title>и (4)</title>\n<ellipse fill=\"none\" stroke=\"black\" cx=\"354.19\" cy=\"-18\" rx=\"28.7\" ry=\"18\"/>\n<text text-anchor=\"middle\" x=\"354.19\" y=\"-14.3\" font-family=\"Times,serif\" font-size=\"14.00\">и (4)</text>\n</g>\n<!-- орхидеи (5)&#45;&gt;и (4) -->\n<g id=\"edge6\" class=\"edge\">\n<title>орхидеи (5)&#45;&gt;и (4)</title>\n<path fill=\"none\" stroke=\"black\" d=\"M266.25,-88.21C284,-74.24 309.98,-53.8 329.1,-38.75\"/>\n<polygon fill=\"black\" stroke=\"black\" points=\"331.39,-41.4 337.08,-32.46 327.06,-35.9 331.39,-41.4\"/>\n<text text-anchor=\"middle\" x=\"313.69\" y=\"-57.8\" font-family=\"Times,serif\" font-size=\"14.00\">cc</text>\n</g>\n</g>\n</svg>\n",
            "text/plain": [
              "<graphviz.graphs.Digraph at 0x7e888270beb0>"
            ]
          },
          "metadata": {},
          "execution_count": 18
        }
      ],
      "source": [
        "draw_tree(str_tree)"
      ]
    },
    {
      "cell_type": "code",
      "execution_count": 19,
      "metadata": {
        "colab": {
          "base_uri": "https://localhost:8080/",
          "height": 544
        },
        "id": "a_8Oxw6Bqbuj",
        "outputId": "5fb71b23-2a1c-4428-c14c-f3f2d25f3023"
      },
      "outputs": [
        {
          "output_type": "execute_result",
          "data": {
            "image/svg+xml": "<?xml version=\"1.0\" encoding=\"UTF-8\" standalone=\"no\"?>\n<!DOCTYPE svg PUBLIC \"-//W3C//DTD SVG 1.1//EN\"\n \"http://www.w3.org/Graphics/SVG/1.1/DTD/svg11.dtd\">\n<!-- Generated by graphviz version 2.43.0 (0)\n -->\n<!-- Title: %3 Pages: 1 -->\n<svg width=\"388pt\" height=\"392pt\"\n viewBox=\"0.00 0.00 388.19 392.00\" xmlns=\"http://www.w3.org/2000/svg\" xmlns:xlink=\"http://www.w3.org/1999/xlink\">\n<g id=\"graph0\" class=\"graph\" transform=\"scale(1 1) rotate(0) translate(4 388)\">\n<title>%3</title>\n<polygon fill=\"white\" stroke=\"transparent\" points=\"-4,4 -4,-388 384.19,-388 384.19,4 -4,4\"/>\n<!--  (0) -->\n<g id=\"node1\" class=\"node\">\n<title> (0)</title>\n<ellipse fill=\"none\" stroke=\"black\" cx=\"246.19\" cy=\"-366\" rx=\"27\" ry=\"18\"/>\n<text text-anchor=\"middle\" x=\"246.19\" y=\"-362.3\" font-family=\"Times,serif\" font-size=\"14.00\"> (0)</text>\n</g>\n<!-- Распространены (1) -->\n<g id=\"node2\" class=\"node\">\n<title>Распространены (1)</title>\n<ellipse fill=\"none\" stroke=\"black\" cx=\"246.19\" cy=\"-279\" rx=\"86.38\" ry=\"18\"/>\n<text text-anchor=\"middle\" x=\"246.19\" y=\"-275.3\" font-family=\"Times,serif\" font-size=\"14.00\">Распространены (1)</text>\n</g>\n<!--  (0)&#45;&gt;Распространены (1) -->\n<g id=\"edge1\" class=\"edge\">\n<title> (0)&#45;&gt;Распространены (1)</title>\n<path fill=\"none\" stroke=\"black\" d=\"M246.19,-347.8C246.19,-336.16 246.19,-320.55 246.19,-307.24\"/>\n<polygon fill=\"black\" stroke=\"black\" points=\"249.69,-307.18 246.19,-297.18 242.69,-307.18 249.69,-307.18\"/>\n<text text-anchor=\"middle\" x=\"257.19\" y=\"-318.8\" font-family=\"Times,serif\" font-size=\"14.00\">root</text>\n</g>\n<!-- крупнолистные (2) -->\n<g id=\"node3\" class=\"node\">\n<title>крупнолистные (2)</title>\n<ellipse fill=\"none\" stroke=\"black\" cx=\"83.19\" cy=\"-192\" rx=\"83.39\" ry=\"18\"/>\n<text text-anchor=\"middle\" x=\"83.19\" y=\"-188.3\" font-family=\"Times,serif\" font-size=\"14.00\">крупнолистные (2)</text>\n</g>\n<!-- Распространены (1)&#45;&gt;крупнолистные (2) -->\n<g id=\"edge2\" class=\"edge\">\n<title>Распространены (1)&#45;&gt;крупнолистные (2)</title>\n<path fill=\"none\" stroke=\"black\" d=\"M215.53,-262.01C189.15,-248.26 150.94,-228.33 122.36,-213.42\"/>\n<polygon fill=\"black\" stroke=\"black\" points=\"123.92,-210.29 113.44,-208.77 120.69,-216.5 123.92,-210.29\"/>\n<text text-anchor=\"middle\" x=\"190.69\" y=\"-231.8\" font-family=\"Times,serif\" font-size=\"14.00\">amod</text>\n</g>\n<!-- миртовые (3) -->\n<g id=\"node4\" class=\"node\">\n<title>миртовые (3)</title>\n<ellipse fill=\"none\" stroke=\"black\" cx=\"246.19\" cy=\"-192\" rx=\"61.99\" ry=\"18\"/>\n<text text-anchor=\"middle\" x=\"246.19\" y=\"-188.3\" font-family=\"Times,serif\" font-size=\"14.00\">миртовые (3)</text>\n</g>\n<!-- Распространены (1)&#45;&gt;миртовые (3) -->\n<g id=\"edge3\" class=\"edge\">\n<title>Распространены (1)&#45;&gt;миртовые (3)</title>\n<path fill=\"none\" stroke=\"black\" d=\"M246.19,-260.8C246.19,-249.16 246.19,-233.55 246.19,-220.24\"/>\n<polygon fill=\"black\" stroke=\"black\" points=\"249.69,-220.18 246.19,-210.18 242.69,-220.18 249.69,-220.18\"/>\n<text text-anchor=\"middle\" x=\"261.69\" y=\"-231.8\" font-family=\"Times,serif\" font-size=\"14.00\">amod</text>\n</g>\n<!-- . (6) -->\n<g id=\"node5\" class=\"node\">\n<title>. (6)</title>\n<ellipse fill=\"none\" stroke=\"black\" cx=\"353.19\" cy=\"-192\" rx=\"27\" ry=\"18\"/>\n<text text-anchor=\"middle\" x=\"353.19\" y=\"-188.3\" font-family=\"Times,serif\" font-size=\"14.00\">. (6)</text>\n</g>\n<!-- Распространены (1)&#45;&gt;. (6) -->\n<g id=\"edge4\" class=\"edge\">\n<title>Распространены (1)&#45;&gt;. (6)</title>\n<path fill=\"none\" stroke=\"black\" d=\"M267.08,-261.41C284.69,-247.42 309.94,-227.36 328.54,-212.58\"/>\n<polygon fill=\"black\" stroke=\"black\" points=\"330.92,-215.17 336.57,-206.2 326.56,-209.68 330.92,-215.17\"/>\n<text text-anchor=\"middle\" x=\"321.69\" y=\"-231.8\" font-family=\"Times,serif\" font-size=\"14.00\">punct</text>\n</g>\n<!-- орхидеи (5) -->\n<g id=\"node6\" class=\"node\">\n<title>орхидеи (5)</title>\n<ellipse fill=\"none\" stroke=\"black\" cx=\"246.19\" cy=\"-105\" rx=\"54.69\" ry=\"18\"/>\n<text text-anchor=\"middle\" x=\"246.19\" y=\"-101.3\" font-family=\"Times,serif\" font-size=\"14.00\">орхидеи (5)</text>\n</g>\n<!-- миртовые (3)&#45;&gt;орхидеи (5) -->\n<g id=\"edge5\" class=\"edge\">\n<title>миртовые (3)&#45;&gt;орхидеи (5)</title>\n<path fill=\"none\" stroke=\"black\" d=\"M246.19,-173.8C246.19,-162.16 246.19,-146.55 246.19,-133.24\"/>\n<polygon fill=\"black\" stroke=\"black\" points=\"249.69,-133.18 246.19,-123.18 242.69,-133.18 249.69,-133.18\"/>\n<text text-anchor=\"middle\" x=\"258.19\" y=\"-144.8\" font-family=\"Times,serif\" font-size=\"14.00\">conj</text>\n</g>\n<!-- и (4) -->\n<g id=\"node7\" class=\"node\">\n<title>и (4)</title>\n<ellipse fill=\"none\" stroke=\"black\" cx=\"246.19\" cy=\"-18\" rx=\"28.7\" ry=\"18\"/>\n<text text-anchor=\"middle\" x=\"246.19\" y=\"-14.3\" font-family=\"Times,serif\" font-size=\"14.00\">и (4)</text>\n</g>\n<!-- орхидеи (5)&#45;&gt;и (4) -->\n<g id=\"edge6\" class=\"edge\">\n<title>орхидеи (5)&#45;&gt;и (4)</title>\n<path fill=\"none\" stroke=\"black\" d=\"M246.19,-86.8C246.19,-75.16 246.19,-59.55 246.19,-46.24\"/>\n<polygon fill=\"black\" stroke=\"black\" points=\"249.69,-46.18 246.19,-36.18 242.69,-46.18 249.69,-46.18\"/>\n<text text-anchor=\"middle\" x=\"252.69\" y=\"-57.8\" font-family=\"Times,serif\" font-size=\"14.00\">cc</text>\n</g>\n</g>\n</svg>\n",
            "text/plain": [
              "<graphviz.graphs.Digraph at 0x7e88827098d0>"
            ]
          },
          "metadata": {},
          "execution_count": 19
        }
      ],
      "source": [
        "draw_tree(taiga_tree)"
      ]
    },
    {
      "cell_type": "markdown",
      "metadata": {
        "id": "jU8n4urmqbul"
      },
      "source": [
        "Теперь можно переходить к расчету метрик"
      ]
    },
    {
      "cell_type": "markdown",
      "metadata": {
        "id": "VI1qm9bGqbuo"
      },
      "source": [
        "## Вычисление LAS и UAS\n",
        "\n",
        "Для этого набираем множества всех рёбер с метками и без и смотрим на размеры пересечений."
      ]
    },
    {
      "cell_type": "code",
      "execution_count": 20,
      "metadata": {
        "id": "fEetAmXx6wAM"
      },
      "outputs": [],
      "source": [
        "def edges_sets(tree):\n",
        "  \"\"\" Reading edges encoded as strings \"\"\"\n",
        "\n",
        "  edges_labeled = []\n",
        "  edges_unlabeled = []\n",
        "  queue = [Root(tree)]\n",
        "\n",
        "  while len(queue) > 0:\n",
        "    head = queue.pop()\n",
        "    head_label = head.token[\"form\"] + \" (%d)\" % head.token[\"id\"]\n",
        "    queue.extend(head.children)\n",
        "\n",
        "    for c in head.children:\n",
        "      c_label = c.token[\"form\"] + \" (%d)\" %  c.token[\"id\"]\n",
        "      edges_unlabeled.append((head_label, c_label))\n",
        "      edges_labeled.append((head_label, c_label, c.token[\"deprel\"]))\n",
        "\n",
        "  return set(edges_labeled), set(edges_unlabeled)"
      ]
    },
    {
      "cell_type": "code",
      "execution_count": 21,
      "metadata": {
        "colab": {
          "base_uri": "https://localhost:8080/",
          "height": 35
        },
        "id": "SCT4HgK_i6cU",
        "outputId": "706e1a03-6d53-46f6-cb05-9eff223607ad"
      },
      "outputs": [
        {
          "output_type": "execute_result",
          "data": {
            "text/plain": [
              "'LAS: 0.5000 UAS: 0.5000'"
            ],
            "application/vnd.google.colaboratory.intrinsic+json": {
              "type": "string"
            }
          },
          "metadata": {},
          "execution_count": 21
        }
      ],
      "source": [
        "def accuracy(gold, pred):\n",
        "  gold_labeled, gold_unlabeled = edges_sets(gold)\n",
        "  pred_labeled, pred_unlabeled = edges_sets(pred)\n",
        "\n",
        "  return len(gold_labeled.intersection(pred_labeled)) / len(gold_labeled), \\\n",
        "          len(gold_unlabeled.intersection(pred_unlabeled)) / len(gold_unlabeled)\n",
        "\n",
        "LAS, UAS = accuracy(str_tree, taiga_tree)\n",
        "\"LAS: %.4f UAS: %.4f\" % (LAS, UAS)"
      ]
    },
    {
      "cell_type": "markdown",
      "metadata": {
        "id": "n08jVsZwu_5R"
      },
      "source": [
        "## Вычисление глубины дерева"
      ]
    },
    {
      "cell_type": "markdown",
      "metadata": {
        "id": "B9LoRI_Hu_5R"
      },
      "source": [
        "Вычислим глубину дерева для разбора модели taiga (ребро root не учитывается)."
      ]
    },
    {
      "cell_type": "code",
      "execution_count": 24,
      "metadata": {
        "colab": {
          "base_uri": "https://localhost:8080/"
        },
        "id": "_WKDvvPxi6cX",
        "outputId": "402fef6c-7dae-4402-e2f4-ae1f87c35f95"
      },
      "outputs": [
        {
          "output_type": "stream",
          "name": "stdout",
          "text": [
            "Глубина дерева для разбора модели taiga: 3\n"
          ]
        }
      ],
      "source": [
        "depth = 0\n",
        "queue = [(taiga_tree, depth)]\n",
        "\n",
        "while len(queue) > 0:\n",
        "    head, depth = queue.pop(0)\n",
        "    queue.extend([(c, depth + 1) for c in head.children])\n",
        "    #print(\"checking\", head.token[\"form\"])\n",
        "\n",
        "print(\"Глубина дерева для разбора модели taiga:\", depth)"
      ]
    },
    {
      "cell_type": "markdown",
      "source": [
        "Вычислим глубину дерева для разбора модели syntagrus."
      ],
      "metadata": {
        "id": "81tbHvBH2rjX"
      }
    },
    {
      "cell_type": "code",
      "execution_count": 22,
      "metadata": {
        "id": "45zc-ojN5uph",
        "colab": {
          "base_uri": "https://localhost:8080/"
        },
        "outputId": "3c61c7e7-6b8c-4b18-fc14-3d06c1016eb4"
      },
      "outputs": [
        {
          "output_type": "stream",
          "name": "stdout",
          "text": [
            "Глубина дерева для разбора модели syntagrus:  2\n"
          ]
        }
      ],
      "source": [
        "depth = 0\n",
        "queue = [(str_tree, depth)]\n",
        "\n",
        "while len(queue) > 0:\n",
        "    head, depth = queue.pop(0)\n",
        "    queue.extend([(c, depth + 1) for c in head.children])\n",
        "    #print(\"checking\", head.token[\"form\"])\n",
        "\n",
        "print(\"Глубина дерева для разбора модели syntagrus: \", depth)"
      ]
    },
    {
      "cell_type": "markdown",
      "source": [
        "## На примере других предложений"
      ],
      "metadata": {
        "id": "gc6937uS3RNm"
      }
    },
    {
      "cell_type": "code",
      "source": [
        "syntag = parse_syntax(\"До появления на островах человека из млекопитающих на суше обитали летучие мыши, а в прибрежных водах — дельфины.\", syntagrus_pipeline)\n",
        "taiga = parse_syntax(\"До появления на островах человека из млекопитающих на суше обитали летучие мыши, а в прибрежных водах — дельфины.\", taiga_pipeline)"
      ],
      "metadata": {
        "id": "p6ht4Uw43ajd"
      },
      "execution_count": 25,
      "outputs": []
    },
    {
      "cell_type": "code",
      "source": [
        "str_tree = parse_output(syntag.strip())[0]\n",
        "taiga_tree = parse_output(taiga.strip())[0]"
      ],
      "metadata": {
        "id": "pS9iZwqC3jVw"
      },
      "execution_count": 26,
      "outputs": []
    },
    {
      "cell_type": "code",
      "source": [
        "LAS, UAS = accuracy(str_tree, taiga_tree)\n",
        "\"LAS: %.4f UAS: %.4f\" % (LAS, UAS)"
      ],
      "metadata": {
        "colab": {
          "base_uri": "https://localhost:8080/",
          "height": 35
        },
        "id": "63i1de9B3mke",
        "outputId": "c87569b6-72ac-4ac7-8522-304c3e9d3fa0"
      },
      "execution_count": 27,
      "outputs": [
        {
          "output_type": "execute_result",
          "data": {
            "text/plain": [
              "'LAS: 0.7500 UAS: 0.8000'"
            ],
            "application/vnd.google.colaboratory.intrinsic+json": {
              "type": "string"
            }
          },
          "metadata": {},
          "execution_count": 27
        }
      ]
    },
    {
      "cell_type": "code",
      "source": [
        "depth = 0\n",
        "queue = [(taiga_tree, depth)]\n",
        "\n",
        "while len(queue) > 0:\n",
        "    head, depth = queue.pop(0)\n",
        "    queue.extend([(c, depth + 1) for c in head.children])\n",
        "    #print(\"checking\", head.token[\"form\"])\n",
        "\n",
        "print(\"Глубина дерева для разбора модели taiga:\", depth)"
      ],
      "metadata": {
        "colab": {
          "base_uri": "https://localhost:8080/"
        },
        "id": "rV-TgYxS3tIf",
        "outputId": "918216ad-8c34-407e-94fe-ed0956c35766"
      },
      "execution_count": 28,
      "outputs": [
        {
          "output_type": "stream",
          "name": "stdout",
          "text": [
            "Глубина дерева для разбора модели taiga: 3\n"
          ]
        }
      ]
    },
    {
      "cell_type": "code",
      "source": [
        "depth = 0\n",
        "queue = [(str_tree, depth)]\n",
        "\n",
        "while len(queue) > 0:\n",
        "    head, depth = queue.pop(0)\n",
        "    queue.extend([(c, depth + 1) for c in head.children])\n",
        "    #print(\"checking\", head.token[\"form\"])\n",
        "\n",
        "print(\"Глубина дерева для разбора модели syntagrus: \", depth)"
      ],
      "metadata": {
        "colab": {
          "base_uri": "https://localhost:8080/"
        },
        "id": "NbEKLMDK3uyf",
        "outputId": "1ebfb207-b38a-45c6-c0af-c26c85d5a01e"
      },
      "execution_count": 29,
      "outputs": [
        {
          "output_type": "stream",
          "name": "stdout",
          "text": [
            "Глубина дерева для разбора модели syntagrus:  3\n"
          ]
        }
      ]
    },
    {
      "cell_type": "code",
      "source": [
        "syntag = parse_syntax(\"Таким образом, люди с белой кожей среди темнокожих оказываются жертвой всеобщей жажды потустороннего.\", syntagrus_pipeline)\n",
        "taiga = parse_syntax(\"Таким образом, люди с белой кожей среди темнокожих оказываются жертвой всеобщей жажды потустороннего.\", taiga_pipeline)"
      ],
      "metadata": {
        "id": "VRu_C8ln38YS"
      },
      "execution_count": 30,
      "outputs": []
    },
    {
      "cell_type": "code",
      "source": [
        "str_tree = parse_output(syntag.strip())[0]\n",
        "taiga_tree = parse_output(taiga.strip())[0]"
      ],
      "metadata": {
        "id": "tlnb-njp38YT"
      },
      "execution_count": 31,
      "outputs": []
    },
    {
      "cell_type": "code",
      "source": [
        "LAS, UAS = accuracy(str_tree, taiga_tree)\n",
        "\"LAS: %.4f UAS: %.4f\" % (LAS, UAS)"
      ],
      "metadata": {
        "colab": {
          "base_uri": "https://localhost:8080/",
          "height": 35
        },
        "outputId": "9e85a7bc-5128-4164-c692-04c2ea04a128",
        "id": "xP_qSkZB38YT"
      },
      "execution_count": 32,
      "outputs": [
        {
          "output_type": "execute_result",
          "data": {
            "text/plain": [
              "'LAS: 0.6000 UAS: 0.8000'"
            ],
            "application/vnd.google.colaboratory.intrinsic+json": {
              "type": "string"
            }
          },
          "metadata": {},
          "execution_count": 32
        }
      ]
    },
    {
      "cell_type": "code",
      "source": [
        "depth = 0\n",
        "queue = [(taiga_tree, depth)]\n",
        "\n",
        "while len(queue) > 0:\n",
        "    head, depth = queue.pop(0)\n",
        "    queue.extend([(c, depth + 1) for c in head.children])\n",
        "    #print(\"checking\", head.token[\"form\"])\n",
        "\n",
        "print(\"Глубина дерева для разбора модели taiga:\", depth)"
      ],
      "metadata": {
        "colab": {
          "base_uri": "https://localhost:8080/"
        },
        "outputId": "feb81942-28ce-46e4-8050-0e28fa9853c6",
        "id": "fGWlrRfG38YU"
      },
      "execution_count": 33,
      "outputs": [
        {
          "output_type": "stream",
          "name": "stdout",
          "text": [
            "Глубина дерева для разбора модели taiga: 4\n"
          ]
        }
      ]
    },
    {
      "cell_type": "code",
      "source": [
        "depth = 0\n",
        "queue = [(str_tree, depth)]\n",
        "\n",
        "while len(queue) > 0:\n",
        "    head, depth = queue.pop(0)\n",
        "    queue.extend([(c, depth + 1) for c in head.children])\n",
        "    #print(\"checking\", head.token[\"form\"])\n",
        "\n",
        "print(\"Глубина дерева для разбора модели syntagrus: \", depth)"
      ],
      "metadata": {
        "colab": {
          "base_uri": "https://localhost:8080/"
        },
        "outputId": "7b25f270-6bcb-472a-a676-514fea2e8a13",
        "id": "PicH08tm38YU"
      },
      "execution_count": 34,
      "outputs": [
        {
          "output_type": "stream",
          "name": "stdout",
          "text": [
            "Глубина дерева для разбора модели syntagrus:  3\n"
          ]
        }
      ]
    }
  ],
  "metadata": {
    "colab": {
      "provenance": []
    },
    "kernelspec": {
      "display_name": "Python 3",
      "language": "python",
      "name": "python3"
    },
    "language_info": {
      "codemirror_mode": {
        "name": "ipython",
        "version": 3
      },
      "file_extension": ".py",
      "mimetype": "text/x-python",
      "name": "python",
      "nbconvert_exporter": "python",
      "pygments_lexer": "ipython3",
      "version": "3.7.6"
    }
  },
  "nbformat": 4,
  "nbformat_minor": 0
}